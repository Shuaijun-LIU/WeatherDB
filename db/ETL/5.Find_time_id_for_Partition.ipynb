{
 "cells": [
  {
   "cell_type": "code",
   "execution_count": 2,
   "outputs": [
    {
     "name": "stdout",
     "output_type": "stream",
     "text": [
      "Year: 2020, First time_id: 1, Last time_id: 8776\n",
      "Year: 2021, First time_id: 8777, Last time_id: 17486\n",
      "Year: 2022, First time_id: 17487, Last time_id: 26246\n",
      "Year: 2023, First time_id: 26247, Last time_id: 34999\n",
      "Year: 2024, First time_id: 35000, Last time_id: 40071\n"
     ]
    }
   ],
   "source": [
    "import json\n",
    "from collections import defaultdict\n",
    "\n",
    "# Read the JSON file\n",
    "with open('/Users/a1234/Desktop/workspace/CS779/WeatherDB/dataset/time.json', 'r') as file:\n",
    "    time_data = json.load(file)\n",
    "\n",
    "# Create dictionaries to store the first and last time_id for each year\n",
    "first_time_id_per_year = {}\n",
    "last_time_id_per_year = {}\n",
    "\n",
    "# Traverse the time data\n",
    "for record in time_data:\n",
    "    year = record['Year']\n",
    "    time_id = record['time_id']\n",
    "    \n",
    "    # Check and update the first time_id for each year\n",
    "    if year not in first_time_id_per_year or time_id < first_time_id_per_year[year]:\n",
    "        first_time_id_per_year[year] = time_id\n",
    "    \n",
    "    # Check and update the last time_id for each year\n",
    "    if year not in last_time_id_per_year or time_id > last_time_id_per_year[year]:\n",
    "        last_time_id_per_year[year] = time_id\n",
    "\n",
    "# Print the first and last time_id for each year\n",
    "for year in sorted(first_time_id_per_year.keys()):\n",
    "    print(f\"Year: {year}, First time_id: {first_time_id_per_year[year]}, Last time_id: {last_time_id_per_year[year]}\")"
   ],
   "metadata": {
    "collapsed": false,
    "ExecuteTime": {
     "end_time": "2024-08-06T07:09:07.386359Z",
     "start_time": "2024-08-06T07:09:07.324610Z"
    }
   },
   "id": "62ba3d764f8a521a"
  }
 ],
 "metadata": {
  "kernelspec": {
   "display_name": "Python 3",
   "language": "python",
   "name": "python3"
  },
  "language_info": {
   "codemirror_mode": {
    "name": "ipython",
    "version": 2
   },
   "file_extension": ".py",
   "mimetype": "text/x-python",
   "name": "python",
   "nbconvert_exporter": "python",
   "pygments_lexer": "ipython2",
   "version": "2.7.6"
  }
 },
 "nbformat": 4,
 "nbformat_minor": 5
}
