{
 "cells": [
  {
   "cell_type": "code",
   "execution_count": 1,
   "id": "initial_id",
   "metadata": {
    "collapsed": true,
    "ExecuteTime": {
     "end_time": "2024-08-05T17:49:57.788596Z",
     "start_time": "2024-08-05T17:49:36.644608Z"
    }
   },
   "outputs": [
    {
     "name": "stdout",
     "output_type": "stream",
     "text": [
      "Processing special events...\n",
      "Runtime: 21.138864040374756 seconds\n",
      "Special events saved to: /Users/a1234/Desktop/workspace/CS779/WeatherDB/dataset/special_event.json\n"
     ]
    }
   ],
   "source": [
    "import os\n",
    "import json\n",
    "import time\n",
    "\n",
    "# Mapping of event_id to the weather data column that caused the event\n",
    "event_cause_mapping = {\n",
    "    1: 'Temperature',           # Heat Wave\n",
    "    2: 'Temperature',           # Cold Wave\n",
    "    3: 'WindSpeed',             # High Wind\n",
    "    4: 'Precipitation',         # Snowfall (Assumed)\n",
    "    5: 'Rain1h',                # Heavy Rainfall (Assumed to use 1-hour rainfall for simplicity)\n",
    "    6: 'Hail',                  # Hail (Assumed)\n",
    "    7: 'CloudCover',            # Thunderstorm\n",
    "    8: 'Visibility',            # Fog/Haze (Assumed)\n",
    "    9: 'Pressure',              # Pressure Drop/Rise\n",
    "    10: 'Humidity'              # Humidity Change (Assumed)\n",
    "}\n",
    "\n",
    "# Function to modify weather data based on event\n",
    "def modify_weather_data(record, event_column):\n",
    "    updated_record = {}\n",
    "    for key, value in record.items():\n",
    "        if key in ['station_id', 'observer_id', 'observation_device_id', 'time_id', 'event_id']:\n",
    "            updated_record[key] = value\n",
    "        elif key == event_column:\n",
    "            updated_record[key + '_status'] = 1\n",
    "        else:\n",
    "            updated_record[key + '_status'] = 0\n",
    "    return updated_record\n",
    "\n",
    "# Function to process special events\n",
    "def process_special_events(input_file, output_file):\n",
    "    with open(input_file, 'r') as file:\n",
    "        observations = json.load(file)\n",
    "    \n",
    "    special_events = []\n",
    "    \n",
    "    for record in observations:\n",
    "        event_id = record.get('event_id')\n",
    "        if event_id and event_id != 0:\n",
    "            event_column = event_cause_mapping.get(event_id)\n",
    "            if event_column:\n",
    "                updated_record = modify_weather_data(record, event_column)\n",
    "                special_events.append(updated_record)\n",
    "    \n",
    "    with open(output_file, 'w') as file:\n",
    "        json.dump(special_events, file, ensure_ascii=False, indent=4)\n",
    "\n",
    "# Main program\n",
    "if __name__ == '__main__':\n",
    "    start_time = time.time()\n",
    "    # Specify the file paths\n",
    "    input_file = '/Users/a1234/Desktop/workspace/CS779/WeatherDB/dataset/observation.json'\n",
    "    output_file = '/Users/a1234/Desktop/workspace/CS779/WeatherDB/dataset/special_event.json'\n",
    "    \n",
    "    print(\"Processing special events...\")\n",
    "    # Process special events and save to new file\n",
    "    process_special_events(input_file, output_file)\n",
    "    \n",
    "    # Record the end time\n",
    "    end_time = time.time()\n",
    "    # Calculate and print the runtime\n",
    "    runtime = end_time - start_time\n",
    "    print(f\"Runtime: {runtime} seconds\")\n",
    "    print(f\"Special events saved to: {output_file}\")"
   ]
  }
 ],
 "metadata": {
  "kernelspec": {
   "display_name": "Python 3",
   "language": "python",
   "name": "python3"
  },
  "language_info": {
   "codemirror_mode": {
    "name": "ipython",
    "version": 2
   },
   "file_extension": ".py",
   "mimetype": "text/x-python",
   "name": "python",
   "nbconvert_exporter": "python",
   "pygments_lexer": "ipython2",
   "version": "2.7.6"
  }
 },
 "nbformat": 4,
 "nbformat_minor": 5
}
