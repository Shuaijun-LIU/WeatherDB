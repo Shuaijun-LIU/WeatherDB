{
 "cells": [
  {
   "cell_type": "code",
   "execution_count": 16,
   "outputs": [
    {
     "name": "stdout",
     "output_type": "stream",
     "text": [
      "Column names in the CSV file: Index(['STATION_ID', 'STATION', 'BEGIN_DATE', 'END_DATE', 'STATE', 'COUNTRY',\n",
      "       'LATITUDE', 'LONGITUDE', 'ELEVATION'],\n",
      "      dtype='object')\n",
      "Column names after renaming: Index(['station_id', 'station', 'begin_date', 'end_date', 'state', 'country',\n",
      "       'latitude', 'longitude', 'elevation'],\n",
      "      dtype='object')\n",
      "JSON file has been saved to: /Users/a1234/Desktop/workspace/CS779/WeatherDB/dataset/station.json\n"
     ]
    }
   ],
   "source": [
    "import pandas as pd\n",
    "import json\n",
    "\n",
    "# Read the CSV file with the correct delimiter\n",
    "file_path = '/Users/a1234/Desktop/workspace/CS779/WeatherDB/data_ETL/us.csv'\n",
    "df = pd.read_csv(file_path, delimiter=',')\n",
    "\n",
    "# Print the column names to debug\n",
    "print(\"Column names in the CSV file:\", df.columns)\n",
    "\n",
    "# Rename columns to lowercase and strip any whitespace\n",
    "df.columns = [col.strip().lower() for col in df.columns]\n",
    "\n",
    "# Print the column names after renaming\n",
    "print(\"Column names after renaming:\", df.columns)\n",
    "\n",
    "# Ensure station_id is correctly named and present\n",
    "if 'station_id' in df.columns:\n",
    "    # Remove rows where station_id contains letters\n",
    "    df = df[~df['station_id'].str.contains(r'[A-Za-z]')]\n",
    "    \n",
    "    # Convert station_id to integer\n",
    "    df['station_id'] = df['station_id'].astype(int)\n",
    "else:\n",
    "    print(\"Column 'station_id' not found in the CSV file\")\n",
    "\n",
    "# Rename 'state' to 'state_id' and 'country' to 'country_id'\n",
    "if 'state' in df.columns:\n",
    "    df.rename(columns={'state': 'state_id'}, inplace=True)\n",
    "else:\n",
    "    print(\"Column 'state' not found in the CSV file\")\n",
    "\n",
    "if 'country' in df.columns:\n",
    "    df.rename(columns={'country': 'country_id'}, inplace=True)\n",
    "else:\n",
    "    print(\"Column 'country' not found in the CSV file\")\n",
    "\n",
    "# Fill missing state_id using forward fill\n",
    "df['state_id'] = df['state_id'].ffill()\n",
    "\n",
    "# Convert date format from yyyy/m/d to yyyy-mm-dd if the columns exist\n",
    "if 'begin_date' in df.columns and 'end_date' in df.columns:\n",
    "    df['begin_date'] = pd.to_datetime(df['begin_date']).dt.strftime('%Y-%m-%d')\n",
    "    df['end_date'] = pd.to_datetime(df['end_date']).dt.strftime('%Y-%m-%d')\n",
    "else:\n",
    "    print(\"Columns 'begin_date' or 'end_date' not found in the CSV file\")\n",
    "\n",
    "# Convert to JSON format\n",
    "json_data = df.to_dict(orient='records')\n",
    "\n",
    "# Save JSON data to a file\n",
    "output_path = '/Users/a1234/Desktop/workspace/CS779/WeatherDB/dataset/station.json'\n",
    "with open(output_path, 'w') as json_file:\n",
    "    json.dump(json_data, json_file, indent=4)\n",
    "\n",
    "print(f\"JSON file has been saved to: {output_path}\")"
   ],
   "metadata": {
    "collapsed": false,
    "ExecuteTime": {
     "end_time": "2024-08-05T10:01:45.982346Z",
     "start_time": "2024-08-05T10:01:45.959800Z"
    }
   },
   "id": "62ba3d764f8a521a"
  }
 ],
 "metadata": {
  "kernelspec": {
   "display_name": "Python 3",
   "language": "python",
   "name": "python3"
  },
  "language_info": {
   "codemirror_mode": {
    "name": "ipython",
    "version": 2
   },
   "file_extension": ".py",
   "mimetype": "text/x-python",
   "name": "python",
   "nbconvert_exporter": "python",
   "pygments_lexer": "ipython2",
   "version": "2.7.6"
  }
 },
 "nbformat": 4,
 "nbformat_minor": 5
}
